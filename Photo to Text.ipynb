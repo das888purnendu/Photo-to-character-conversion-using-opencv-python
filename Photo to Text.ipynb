{
 "cells": [
  {
   "cell_type": "markdown",
   "metadata": {},
   "source": [
    "# Photo to Text-Charecter convertion - By Purnendu Das\n",
    "## das888purnendu@gmail.com"
   ]
  },
  {
   "cell_type": "code",
   "execution_count": 1,
   "metadata": {},
   "outputs": [],
   "source": [
    "import cv2\n",
    "import numpy as np\n",
    "ratio = [2,0.7]"
   ]
  },
  {
   "cell_type": "code",
   "execution_count": 2,
   "metadata": {},
   "outputs": [],
   "source": [
    "image = cv2.imread('me.jpeg',cv2.IMREAD_GRAYSCALE)"
   ]
  },
  {
   "cell_type": "code",
   "execution_count": 3,
   "metadata": {},
   "outputs": [
    {
     "data": {
      "text/plain": [
       "(1536, 1536)"
      ]
     },
     "execution_count": 3,
     "metadata": {},
     "output_type": "execute_result"
    }
   ],
   "source": [
    "image.shape"
   ]
  },
  {
   "cell_type": "code",
   "execution_count": 4,
   "metadata": {},
   "outputs": [],
   "source": [
    "if(image.shape[1]>=4000):\n",
    "    factor=1\n",
    "elif(image.shape[1]>=3000):\n",
    "    factor=2\n",
    "elif(image.shape[1]>=2000):\n",
    "    factor=3\n",
    "elif(image.shape[1]>=1000):\n",
    "    factor=4\n",
    "elif(image.shape[1]>=700):\n",
    "    factor=5\n",
    "else:\n",
    "    factor=10"
   ]
  },
  {
   "cell_type": "code",
   "execution_count": 5,
   "metadata": {},
   "outputs": [],
   "source": [
    "scl_1 = factor * ratio[0]\n",
    "scl_2 = factor * ratio[1]\n",
    "w = int(image.shape[1] * scl_1 / 100)\n",
    "h = int(image.shape[0] * scl_2 / 100)\n",
    "dim = (w,h)\n",
    "image = cv2.resize(image, dim, interpolation = cv2.INTER_AREA)"
   ]
  },
  {
   "cell_type": "code",
   "execution_count": 6,
   "metadata": {},
   "outputs": [
    {
     "data": {
      "text/plain": [
       "(43, 122)"
      ]
     },
     "execution_count": 6,
     "metadata": {},
     "output_type": "execute_result"
    }
   ],
   "source": [
    "image.shape"
   ]
  },
  {
   "cell_type": "code",
   "execution_count": 7,
   "metadata": {},
   "outputs": [],
   "source": [
    "(thresh, image) = cv2.threshold(image, 128, 255, cv2.THRESH_BINARY | cv2.THRESH_OTSU)"
   ]
  },
  {
   "cell_type": "code",
   "execution_count": 8,
   "metadata": {},
   "outputs": [],
   "source": [
    "cv2.imshow(\"Image\",image)\n",
    "cv2.waitKey(0)\n",
    "cv2.destroyAllWindows()"
   ]
  },
  {
   "cell_type": "code",
   "execution_count": 9,
   "metadata": {},
   "outputs": [
    {
     "name": "stdout",
     "output_type": "stream",
     "text": [
      "                                   .....                                                                                  \n",
      "                                   .....                                                                                  \n",
      "                                   .....                                                                                  \n",
      "                                   ....                                                                                   \n",
      "                                   ....             ..........                                                            \n",
      "                                    ..           .................                                                        \n",
      "                                       ..... ............................                                                 \n",
      "                                      .........................................  .                                        \n",
      "                                     .............................................                                        \n",
      "                                   ..................................................                                     \n",
      "                                .........................................................                                 \n",
      "                                ..........................................................                                \n",
      "                                .............................................................                             \n",
      "                                ...............................................    ..........                             \n",
      "                               ...........................................  .................                             \n",
      "                                ...........................................................                               \n",
      "                                      .........................................      ...                                  \n",
      "                                       ...............  ......................       ..                                   \n",
      "                                       .............       ...............           .                                    \n",
      "                                        . .......             .........                                                   \n",
      "                                        .  .......                                                                        \n",
      "                                        . ............            .......                                                 \n",
      "                                        ...................    ..........  ...                                            \n",
      "                                        ..........  .... ..    ...  .............                                         \n",
      "                                         .................     ..................                                         \n",
      "                                          ................      .................                                         \n",
      "                                           ...............         ...........                                            \n",
      "                                            ....    .....                                                                 \n",
      "                                             .............                        ....                                    \n",
      "                                           ....................                 .......                                   \n",
      "                                      .....................           ..     ..........  .....                            \n",
      "                                    ......................                .............  ....... ..                       \n",
      "                                  ......................              ................. .......  ......                   \n",
      "                                  ............................   ..................... ....................               \n",
      "                                 .................................................... ..........................          \n",
      "                                 ..........................  ....................................................         \n",
      "                                 ....................................................................................     \n",
      "                                 .......................................................................................  \n",
      "                                 ...  ....................................................................................\n",
      "                                 ..   ....................................................................................\n",
      "                                 ..   ....................................................................................\n",
      "                                 .   .....................................................................................\n",
      "                                .  .......................................................................................\n"
     ]
    }
   ],
   "source": [
    "H,W = image.shape[:2]\n",
    "for i in range(H):\n",
    "    s=\"\"\n",
    "    for j in range(W):\n",
    "        if(image[i][j]==0):\n",
    "            s=s+\".\"\n",
    "        else:\n",
    "             s=s+\" \"\n",
    "    print(s)"
   ]
  },
  {
   "cell_type": "code",
   "execution_count": null,
   "metadata": {},
   "outputs": [],
   "source": []
  }
 ],
 "metadata": {
  "kernelspec": {
   "display_name": "Python 3",
   "language": "python",
   "name": "python3"
  },
  "language_info": {
   "codemirror_mode": {
    "name": "ipython",
    "version": 3
   },
   "file_extension": ".py",
   "mimetype": "text/x-python",
   "name": "python",
   "nbconvert_exporter": "python",
   "pygments_lexer": "ipython3",
   "version": "3.7.3"
  }
 },
 "nbformat": 4,
 "nbformat_minor": 2
}
